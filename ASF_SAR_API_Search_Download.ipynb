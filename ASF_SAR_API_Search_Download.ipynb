{
 "cells": [
  {
   "cell_type": "code",
   "execution_count": null,
   "id": "dbe6309e",
   "metadata": {},
   "outputs": [],
   "source": [
    "pip install asf_search #install asf_search - the package is a dependency for some of the code below"
   ]
  },
  {
   "cell_type": "code",
   "execution_count": null,
   "id": "a1822b94",
   "metadata": {},
   "outputs": [],
   "source": [
    "pip list #just a sanity check that you have asf_search"
   ]
  },
  {
   "cell_type": "code",
   "execution_count": null,
   "id": "3e77b32c",
   "metadata": {},
   "outputs": [],
   "source": [
    "import asf_search as asf "
   ]
  },
  {
   "cell_type": "code",
   "execution_count": null,
   "id": "1193f7a9",
   "metadata": {},
   "outputs": [],
   "source": [
    "asf.__version__ #confirm your version. This was written using the tutorial from https://www.youtube.com/watch?v=z2EPyOwjRA4"
   ]
  },
  {
   "cell_type": "code",
   "execution_count": null,
   "id": "f9bcf3e2",
   "metadata": {},
   "outputs": [],
   "source": [
    "#authentication code - necessary to download data. Not necessary for searching. \n",
    "import getpass\n",
    "username = input('Username:')\n",
    "password = getpass.getpass('Password:')\n",
    "\n",
    "try:\n",
    "    user_pass_session = asf.ASFSession().auth_with_creds(username, password)\n",
    "except asf.ASFAuthenticationError as e:\n",
    "    print(f'Auth failed: {e}')\n",
    "else:\n",
    "    print('Success!')"
   ]
  },
  {
   "cell_type": "code",
   "execution_count": null,
   "id": "0c9b054a",
   "metadata": {},
   "outputs": [],
   "source": [
    "#download data over West Lafayette, IN. Many more search parameters available at https://docs.asf.alaska.edu/api/keywords/\n",
    "results = asf.geo_search(\n",
    "    #intersectsWith='POLYGON((-91.97 28.78,-88.85 28.78,-88.85 30.31,-91.97 30.31,-91.97 28.78))',\n",
    "    intersectsWith ='POLYGON((-86.90688396 40.42794569, -86.90689223 40.42764244, -86.90637779 40.42757232, -86.90635441 40.42791443, -86.90688396 40.42794569))',\n",
    "    platform='Sentinel-1',\n",
    "    beamMode='IW',\n",
    "    relativeOrbit=19,\n",
    "    processingLevel='SLC',\n",
    "    flightDirection='A', #relativeOrbit 19 only is from ascending orbit, so this isn't necessary. \n",
    "    start='2022-1-30',\n",
    "    end='2022-3-14')\n",
    "    "
   ]
  },
  {
   "cell_type": "code",
   "execution_count": null,
   "id": "8f223c08",
   "metadata": {},
   "outputs": [],
   "source": [
    "len(results) #sanity check for how many results you get. Sentinel-1 has a revist rate of 12 days at the same \n",
    "#incidence angle. "
   ]
  },
  {
   "cell_type": "code",
   "execution_count": null,
   "id": "d205a1c8",
   "metadata": {},
   "outputs": [],
   "source": [
    "#check which directory you are in. You might need to create a folder or update the download path in the next cell\n",
    "os.getcwd()"
   ]
  },
  {
   "cell_type": "code",
   "execution_count": null,
   "id": "85868ed7",
   "metadata": {},
   "outputs": [],
   "source": [
    "#download data. Update index of results to a range (i.e results[0:10] to do multiple downloads) \n",
    "results[0].download(path='./api_download', session=user_pass_session)\n",
    "#listdir('./api_download')"
   ]
  }
 ],
 "metadata": {
  "kernelspec": {
   "display_name": "Python 3 (ipykernel)",
   "language": "python",
   "name": "python3"
  },
  "language_info": {
   "codemirror_mode": {
    "name": "ipython",
    "version": 3
   },
   "file_extension": ".py",
   "mimetype": "text/x-python",
   "name": "python",
   "nbconvert_exporter": "python",
   "pygments_lexer": "ipython3",
   "version": "3.9.7"
  }
 },
 "nbformat": 4,
 "nbformat_minor": 5
}
